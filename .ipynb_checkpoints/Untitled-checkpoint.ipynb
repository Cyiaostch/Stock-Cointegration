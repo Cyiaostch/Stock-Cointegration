{
 "cells": [
  {
   "cell_type": "code",
   "execution_count": 1,
   "metadata": {},
   "outputs": [],
   "source": [
    "from cointegration import *\n",
    "from data_fetching import *\n"
   ]
  },
  {
   "cell_type": "code",
   "execution_count": null,
   "metadata": {},
   "outputs": [],
   "source": [
    "def generate_response(tickers,start_date,end_date):\n",
    "    stocks_data=get_data(tickers,start_date,end_date)\n",
    "    compiled_stocks_data=compile_data(stocks_data,\"Close\",tickers)\n",
    "    optimized_portofolio=optimize_portofolio(tickers,0.01,100)\n",
    "    best_parameters,portofolio=optimized_potofolio\n",
    "    dicky_fuller_statistics=stationary_test(best_parameters,portofolio)\n",
    "    test_statistics=dicky_fuller_statistics[0]\n",
    "    p_value=dicky_fuller_statistics[1]\n",
    "    critical_value_1=dicky_fuller_statistics[4]['1%']\n",
    "    critical_value_5=dicky_fuller_statistics[4]['5%']\n",
    "    critical_value_10=dicky_fuller_statistics[4]['10%']\n",
    "    \n",
    "    return best_parameters,portofolio,test_statistics,p_value,critical_value_1,critical_value_5,critical_value_10"
   ]
  }
 ],
 "metadata": {
  "kernelspec": {
   "display_name": "Python 3",
   "language": "python",
   "name": "python3"
  },
  "language_info": {
   "codemirror_mode": {
    "name": "ipython",
    "version": 3
   },
   "file_extension": ".py",
   "mimetype": "text/x-python",
   "name": "python",
   "nbconvert_exporter": "python",
   "pygments_lexer": "ipython3",
   "version": "3.6.4"
  }
 },
 "nbformat": 4,
 "nbformat_minor": 2
}
